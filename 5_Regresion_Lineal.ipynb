{
  "nbformat": 4,
  "nbformat_minor": 0,
  "metadata": {
    "colab": {
      "provenance": [],
      "include_colab_link": true
    },
    "kernelspec": {
      "name": "python3",
      "display_name": "Python 3"
    },
    "language_info": {
      "name": "python"
    }
  },
  "cells": [
    {
      "cell_type": "markdown",
      "metadata": {
        "id": "view-in-github",
        "colab_type": "text"
      },
      "source": [
        "<a href=\"https://colab.research.google.com/github/EmilioSantiagoCS/Modelos-de-regresi-n-lineal/blob/main/5_Regresion_Lineal.ipynb\" target=\"_parent\"><img src=\"https://colab.research.google.com/assets/colab-badge.svg\" alt=\"Open In Colab\"/></a>"
      ]
    },
    {
      "cell_type": "code",
      "execution_count": 1,
      "metadata": {
        "id": "2zhUYakheCcR"
      },
      "outputs": [],
      "source": [
        "import pandas as pd\n",
        "import numpy as np\n",
        "import matplotlib.pyplot as plt\n",
        "import seaborn as sns"
      ]
    },
    {
      "cell_type": "code",
      "source": [
        "#Cargar archivo csv desde equipo\n",
        "from google.colab import files\n",
        "files.upload()"
      ],
      "metadata": {
        "id": "hnMgCwFTwkXB"
      },
      "execution_count": null,
      "outputs": []
    },
    {
      "cell_type": "code",
      "source": [
        "#Cargar archivo csv desde seaborn\n",
        "df=pd.read_csv('cuentas_credicel.csv', encoding='latin')\n",
        "df.head(2)"
      ],
      "metadata": {
        "id": "zCHbFi_ZeuYD"
      },
      "execution_count": null,
      "outputs": []
    },
    {
      "cell_type": "markdown",
      "source": [
        "**FILTRACIÓN DE DATOS**"
      ],
      "metadata": {
        "id": "XGk16xD-8O7h"
      }
    },
    {
      "cell_type": "code",
      "source": [
        "#Reemplazo de datos tipo string a datos tipo numérico\n",
        "df.plazo = df.plazo.replace({'S':''}, regex=True)"
      ],
      "metadata": {
        "id": "ADN3sSk4zz3O"
      },
      "execution_count": 4,
      "outputs": []
    },
    {
      "cell_type": "code",
      "source": [
        "df['plazo']=df['plazo'].astype(float)"
      ],
      "metadata": {
        "id": "JMmPi8970W2C"
      },
      "execution_count": 5,
      "outputs": []
    },
    {
      "cell_type": "code",
      "source": [
        "#Verificamos información del DataFrame\n",
        "df.info()"
      ],
      "metadata": {
        "id": "kcl3-LgjxKM7"
      },
      "execution_count": null,
      "outputs": []
    },
    {
      "cell_type": "code",
      "source": [
        "df1=df.iloc[ : , [0,2,6,7,8,9,10,11,12,13,16,17,19,20,21,25,27,28,29]]\n",
        "df1.head(2)"
      ],
      "metadata": {
        "id": "nzqizcICxdDo"
      },
      "execution_count": null,
      "outputs": []
    },
    {
      "cell_type": "markdown",
      "source": [
        "**SUSTITUCION VALORES NULOS**"
      ],
      "metadata": {
        "id": "543eE6_Q8G-Q"
      }
    },
    {
      "cell_type": "code",
      "source": [
        "#Identificar valores nulos por columna\n",
        "valores_nulos=df1.isnull().sum()\n",
        "valores_nulos"
      ],
      "metadata": {
        "id": "pzcE5_vE23Rf"
      },
      "execution_count": null,
      "outputs": []
    },
    {
      "cell_type": "code",
      "source": [
        "df1[\"puntos\"]=df1[\"puntos\"].fillna(round(df1[\"puntos\"].mean(),1))\n",
        "df1[\"porc_enganche\"]=df1[\"porc_enganche\"].fillna(round(df1[\"porc_enganche\"].mean(),1))"
      ],
      "metadata": {
        "id": "U5KOY5eP3LZE"
      },
      "execution_count": null,
      "outputs": []
    },
    {
      "cell_type": "code",
      "source": [
        "#Identificar valores nulos por columna\n",
        "valores_nulos=df1.isnull().sum()\n",
        "valores_nulos"
      ],
      "metadata": {
        "id": "rdll1JB53mMm"
      },
      "execution_count": null,
      "outputs": []
    },
    {
      "cell_type": "markdown",
      "source": [
        "**PROCEDIMIENTO \"DESVIACIÓN ESTÁNDAR\" PARA ELIMINAR OUTLIERS EN DATAFRAME**\n",
        "\n"
      ],
      "metadata": {
        "id": "caDQ5onC59GT"
      }
    },
    {
      "cell_type": "code",
      "source": [
        "#Método aplicando desviación estandar. Encuentro los valores extremos\n",
        "y=df1\n",
        "Limite_Superior= y.mean() + 3*y.std()\n",
        "Limite_Inferior= y.mean() - 3*y.std()\n",
        "print(\"Limite superior permitido\", Limite_Superior)\n",
        "print(\"Limite inferior permitido\", Limite_Inferior)"
      ],
      "metadata": {
        "id": "Z4kslHzN4m4r"
      },
      "execution_count": null,
      "outputs": []
    },
    {
      "cell_type": "code",
      "source": [
        "# Ajustar maximo de filas\n",
        "pd.options.display.max_columns = None"
      ],
      "metadata": {
        "id": "99JVg39D6FBG"
      },
      "execution_count": 14,
      "outputs": []
    },
    {
      "cell_type": "code",
      "source": [
        "#Obtenemos datos y los outliers se convierten en nulos en el DataFrame\n",
        "Datos_sin_Outliers= df1[(y<=Limite_Superior)&(y>=Limite_Inferior)]\n",
        "Datos_sin_Outliers"
      ],
      "metadata": {
        "id": "uxa381TK6IZJ"
      },
      "execution_count": null,
      "outputs": []
    },
    {
      "cell_type": "code",
      "source": [
        "#Corroboramos valores nulos\n",
        "valores_nulos=Datos_sin_Outliers.isnull().sum()\n",
        "valores_nulos"
      ],
      "metadata": {
        "id": "13OmQmbN6X9U"
      },
      "execution_count": null,
      "outputs": []
    },
    {
      "cell_type": "code",
      "source": [
        "#Reemplazamos valores atípicos (nulos) del dataframe con \"mean\"\n",
        "df1=df1.fillna(round(Datos_sin_Outliers.mean(),1))\n",
        "df1"
      ],
      "metadata": {
        "id": "LGKxKeUB6eI7"
      },
      "execution_count": null,
      "outputs": []
    },
    {
      "cell_type": "code",
      "source": [
        "#Corroboramos valores nulos\n",
        "valores_nulos=df1.isnull().sum()\n",
        "valores_nulos"
      ],
      "metadata": {
        "id": "eE1wugHe6-jz"
      },
      "execution_count": null,
      "outputs": []
    },
    {
      "cell_type": "markdown",
      "source": [
        "**MODELO DE REGRESIÓN LINEAL (enganche)**"
      ],
      "metadata": {
        "id": "1xJDS9_g7Cgy"
      }
    },
    {
      "cell_type": "code",
      "source": [
        "#Imprimimos el scatter plot entre la variable dependiente (enganche) e independiente (precio)\n",
        "#para observar el comportamiento en su dispersión\n",
        "from turtle import color\n",
        "sns.scatterplot(x='precio', y='enganche', color=\"blue\", data=df1)"
      ],
      "metadata": {
        "id": "0DYWMO6efVxZ"
      },
      "execution_count": null,
      "outputs": []
    },
    {
      "cell_type": "code",
      "source": [
        "#Declaramos las variables dependientes e independientes para la regresión lineal\n",
        "Vars_Indep= df1[['precio']]\n",
        "Var_Dep= df1['enganche']"
      ],
      "metadata": {
        "id": "e6-vYLJ1geHc"
      },
      "execution_count": 20,
      "outputs": []
    },
    {
      "cell_type": "code",
      "source": [
        "#Se define model como la función de regresión lineal\n",
        "from sklearn.linear_model import LinearRegression\n",
        "model= LinearRegression()"
      ],
      "metadata": {
        "id": "X17VDe7vhCGO"
      },
      "execution_count": 21,
      "outputs": []
    },
    {
      "cell_type": "code",
      "source": [
        "#Ajustamos el modelo con las variables antes declaradas\n",
        "model.fit(X=Vars_Indep, y=Var_Dep)"
      ],
      "metadata": {
        "id": "LVIGslN8hkMu"
      },
      "execution_count": null,
      "outputs": []
    },
    {
      "cell_type": "code",
      "source": [
        "#Verificamos los coeficientes obtenidos para el modelo ajustado\n",
        "model.__dict__"
      ],
      "metadata": {
        "id": "UO-bXEd3iLsL"
      },
      "execution_count": null,
      "outputs": []
    },
    {
      "cell_type": "markdown",
      "source": [
        "**Modelo matemático: y= 0.23756085x - 23.102025871270712**"
      ],
      "metadata": {
        "id": "Yz3Jg5CoipJr"
      }
    },
    {
      "cell_type": "code",
      "source": [
        "#Predecimos los valores de total de accidentes a partir de la variable \"precio\"\n",
        "y_pred= model.predict(X=df1[['precio']])\n",
        "y_pred"
      ],
      "metadata": {
        "id": "9BbDxUY-jGLv"
      },
      "execution_count": null,
      "outputs": []
    },
    {
      "cell_type": "code",
      "source": [
        "df1.head(2)"
      ],
      "metadata": {
        "id": "QJxkOyh-uK2s"
      },
      "execution_count": null,
      "outputs": []
    },
    {
      "cell_type": "code",
      "source": [
        "#Insertamos la columna de predicciones en el DataFrame\n",
        "df1.insert(0, 'Predicciones', y_pred)\n",
        "df1"
      ],
      "metadata": {
        "id": "xy0ssEikjhoz"
      },
      "execution_count": null,
      "outputs": []
    },
    {
      "cell_type": "code",
      "source": [
        "#Visualizamos la gráfica comparativa entre el total real y el total predecido\n",
        "\n",
        "sns.scatterplot(x='precio', y='enganche', color=\"blue\", data=df1)\n",
        "sns.scatterplot(x='precio', y='Predicciones', color=\"red\", data=df1)\n"
      ],
      "metadata": {
        "id": "sAvbrdpMkChN"
      },
      "execution_count": null,
      "outputs": []
    },
    {
      "cell_type": "code",
      "source": [
        "#Corroboramos cual es el coeficiente de Determinación de nuestro modelo\n",
        "coef_Deter=model.score(X=Vars_Indep, y=Var_Dep)\n",
        "coef_Deter"
      ],
      "metadata": {
        "colab": {
          "base_uri": "https://localhost:8080/"
        },
        "id": "llMy2SQQkV6_",
        "outputId": "b4bcccf8-930f-4d7e-d2d4-31d89ce3af66"
      },
      "execution_count": 28,
      "outputs": [
        {
          "output_type": "execute_result",
          "data": {
            "text/plain": [
              "0.46038792988866994"
            ]
          },
          "metadata": {},
          "execution_count": 28
        }
      ]
    },
    {
      "cell_type": "code",
      "source": [
        "#Corroboramos cual es el coeficiente de Correlación de nuestro modelo\n",
        "coef_Correl=np.sqrt(coef_Deter)\n",
        "coef_Correl"
      ],
      "metadata": {
        "colab": {
          "base_uri": "https://localhost:8080/"
        },
        "id": "BVkVxJGskco9",
        "outputId": "b378ebcc-9cf2-473c-c73d-b23976fbbd6d"
      },
      "execution_count": 29,
      "outputs": [
        {
          "output_type": "execute_result",
          "data": {
            "text/plain": [
              "0.6785189237513349"
            ]
          },
          "metadata": {},
          "execution_count": 29
        }
      ]
    },
    {
      "cell_type": "markdown",
      "source": [
        "**MODELO DE REGRESIÓN LINEAL (y=precio)**"
      ],
      "metadata": {
        "id": "t5lpMBSskFJo"
      }
    },
    {
      "cell_type": "code",
      "source": [
        "#Declaramos las variables dependientes e independientes para la regresión lineal\n",
        "Vars_Indep1= df1[['costo_total']]\n",
        "Var_Dep1= df1['precio']"
      ],
      "metadata": {
        "id": "FkUBJjUTmh6M"
      },
      "execution_count": 30,
      "outputs": []
    },
    {
      "cell_type": "code",
      "source": [
        "#Se define model como la función de regresión lineal\n",
        "from sklearn.linear_model import LinearRegression\n",
        "model1= LinearRegression()"
      ],
      "metadata": {
        "id": "Hyg4ALhelZbh"
      },
      "execution_count": 31,
      "outputs": []
    },
    {
      "cell_type": "code",
      "source": [
        "#Ajustamos el modelo con las variables antes declaradas\n",
        "model1.fit(X=Vars_Indep1, y=Var_Dep1)"
      ],
      "metadata": {
        "id": "ovgt0pBilnT5"
      },
      "execution_count": null,
      "outputs": []
    },
    {
      "cell_type": "code",
      "source": [
        "#Verificamos los coeficientes obtenidos para el modelo ajustado\n",
        "model1.__dict__"
      ],
      "metadata": {
        "id": "-JEhmyorlreU"
      },
      "execution_count": null,
      "outputs": []
    },
    {
      "cell_type": "markdown",
      "source": [
        "**Modelo matemático: y= 0.49782094x + 1159.6103776221248**"
      ],
      "metadata": {
        "id": "oOJMdfhGltNW"
      }
    },
    {
      "cell_type": "code",
      "source": [
        "#Predecimos los valores de total de accidentes a partir de la variable \"costo_total\"\n",
        "y_pred1= model1.predict(X=df1[['costo_total']])\n",
        "y_pred1"
      ],
      "metadata": {
        "id": "3ebqHBaRmTa5"
      },
      "execution_count": null,
      "outputs": []
    },
    {
      "cell_type": "code",
      "source": [
        "#Insertamos la columna de predicciones en el DataFrame\n",
        "df1.insert(0, 'Predicciones1', y_pred1)\n",
        "df1"
      ],
      "metadata": {
        "id": "WrVRuEkwmo8F"
      },
      "execution_count": null,
      "outputs": []
    },
    {
      "cell_type": "code",
      "source": [
        "#Visualizamos la gráfica comparativa entre el total real y el total predecido\n",
        "\n",
        "sns.scatterplot(x='costo_total', y='precio', color=\"blue\", data=df1)\n",
        "sns.scatterplot(x='costo_total', y='Predicciones1', color=\"red\", data=df1)\n"
      ],
      "metadata": {
        "id": "iyxt-Tu1m33U"
      },
      "execution_count": null,
      "outputs": []
    },
    {
      "cell_type": "code",
      "source": [
        "#Corroboramos cual es el coeficiente de Determinación de nuestro modelo\n",
        "coef_Deter1=model1.score(X=Vars_Indep1, y=Var_Dep1)\n",
        "coef_Deter1"
      ],
      "metadata": {
        "colab": {
          "base_uri": "https://localhost:8080/"
        },
        "id": "SVJgE8gWnDD5",
        "outputId": "49358b84-6d67-467f-bbcc-ec83bafe6d1b"
      },
      "execution_count": 37,
      "outputs": [
        {
          "output_type": "execute_result",
          "data": {
            "text/plain": [
              "0.7610877215641616"
            ]
          },
          "metadata": {},
          "execution_count": 37
        }
      ]
    },
    {
      "cell_type": "code",
      "source": [
        "#Corroboramos cual es el coeficiente de Correlación de nuestro modelo\n",
        "coef_Correl1=np.sqrt(coef_Deter1)\n",
        "coef_Correl1"
      ],
      "metadata": {
        "colab": {
          "base_uri": "https://localhost:8080/"
        },
        "id": "uie4ZE_unMB5",
        "outputId": "2edd04e5-2959-4ced-9af3-7e0aadef5ff3"
      },
      "execution_count": 38,
      "outputs": [
        {
          "output_type": "execute_result",
          "data": {
            "text/plain": [
              "0.872403416754062"
            ]
          },
          "metadata": {},
          "execution_count": 38
        }
      ]
    },
    {
      "cell_type": "markdown",
      "source": [
        "**MODELO DE REGRESIÓN LINEAL (costo_total)**"
      ],
      "metadata": {
        "id": "MOwmYKuunnMy"
      }
    },
    {
      "cell_type": "code",
      "source": [
        "#Declaramos las variables dependientes e independientes para la regresión lineal\n",
        "Vars_Indep2= df1[['pagos_realizados']]\n",
        "Var_Dep2= df1['costo_total']"
      ],
      "metadata": {
        "id": "lt0oAppqn5lm"
      },
      "execution_count": 39,
      "outputs": []
    },
    {
      "cell_type": "code",
      "source": [
        "#Se define model como la función de regresión lineal\n",
        "from sklearn.linear_model import LinearRegression\n",
        "model2= LinearRegression()"
      ],
      "metadata": {
        "id": "lQPhFpynoEB6"
      },
      "execution_count": 40,
      "outputs": []
    },
    {
      "cell_type": "code",
      "source": [
        "#Ajustamos el modelo con las variables antes declaradas\n",
        "model2.fit(X=Vars_Indep2, y=Var_Dep2)"
      ],
      "metadata": {
        "id": "FJ17aAn6oIqG"
      },
      "execution_count": null,
      "outputs": []
    },
    {
      "cell_type": "code",
      "source": [
        "#Verificamos los coeficientes obtenidos para el modelo ajustado\n",
        "model2.__dict__"
      ],
      "metadata": {
        "id": "KqPYgy42oTio"
      },
      "execution_count": null,
      "outputs": []
    },
    {
      "cell_type": "markdown",
      "source": [
        "**Modelo matemático y = 32.53405265x + 5368.470339687169**"
      ],
      "metadata": {
        "id": "1R_UNfsooW1R"
      }
    },
    {
      "cell_type": "code",
      "source": [
        "#Predecimos los valores de total de accidentes a partir de la variable \"costo_total\"\n",
        "y_pred2= model2.predict(X=df1[['pagos_realizados']])\n",
        "y_pred2"
      ],
      "metadata": {
        "id": "ayH4u5fxofNr"
      },
      "execution_count": null,
      "outputs": []
    },
    {
      "cell_type": "code",
      "source": [
        "#Insertamos la columna de predicciones en el DataFrame\n",
        "df1.insert(0, 'Predicciones2', y_pred2)\n",
        "df1"
      ],
      "metadata": {
        "id": "kdCCyhZVpRkd"
      },
      "execution_count": null,
      "outputs": []
    },
    {
      "cell_type": "code",
      "source": [
        "#Visualizamos la gráfica comparativa entre el total real y el total predecido\n",
        "\n",
        "sns.scatterplot(x='pagos_realizados', y='costo_total', color=\"blue\", data=df1)\n",
        "sns.scatterplot(x='pagos_realizados', y='Predicciones2', color=\"red\", data=df1)"
      ],
      "metadata": {
        "id": "GTVCSGF4pIdz"
      },
      "execution_count": null,
      "outputs": []
    },
    {
      "cell_type": "code",
      "source": [
        "#Corroboramos cual es el coeficiente de Determinación de nuestro modelo\n",
        "coef_Deter2=model2.score(X=Vars_Indep2, y=Var_Dep2)\n",
        "coef_Deter2"
      ],
      "metadata": {
        "colab": {
          "base_uri": "https://localhost:8080/"
        },
        "id": "Qg4Z9neipnEj",
        "outputId": "1b10bbe0-d841-4e35-b0ea-d105ef2ac2fd"
      },
      "execution_count": 91,
      "outputs": [
        {
          "output_type": "execute_result",
          "data": {
            "text/plain": [
              "0.01752459482404478"
            ]
          },
          "metadata": {},
          "execution_count": 91
        }
      ]
    },
    {
      "cell_type": "code",
      "source": [
        "#Corroboramos cual es el coeficiente de Correlación de nuestro modelo\n",
        "coef_Correl2=np.sqrt(coef_Deter2)\n",
        "coef_Correl2"
      ],
      "metadata": {
        "colab": {
          "base_uri": "https://localhost:8080/"
        },
        "id": "22i_lDUEpue3",
        "outputId": "c172c5d4-177f-4b56-c321-c7812333a5a1"
      },
      "execution_count": 92,
      "outputs": [
        {
          "output_type": "execute_result",
          "data": {
            "text/plain": [
              "0.13238049261142965"
            ]
          },
          "metadata": {},
          "execution_count": 92
        }
      ]
    },
    {
      "cell_type": "markdown",
      "source": [
        "**MODELO DE REGRESIÓN LINEAL (pagos_realizados)**"
      ],
      "metadata": {
        "id": "gO0ivcnApyzx"
      }
    },
    {
      "cell_type": "code",
      "source": [
        "#Declaramos las variables dependientes e independientes para la regresión lineal\n",
        "Vars_Indep3= df1[['plazo']]\n",
        "Var_Dep3= df1['pagos_realizados']"
      ],
      "metadata": {
        "id": "7qnm0CpEp8Lh"
      },
      "execution_count": 48,
      "outputs": []
    },
    {
      "cell_type": "code",
      "source": [
        "#Se define model como la función de regresión lineal\n",
        "from sklearn.linear_model import LinearRegression\n",
        "model3= LinearRegression()"
      ],
      "metadata": {
        "id": "ezidWil9qEWv"
      },
      "execution_count": 49,
      "outputs": []
    },
    {
      "cell_type": "code",
      "source": [
        "#Ajustamos el modelo con las variables antes declaradas\n",
        "model3.fit(X=Vars_Indep3, y=Var_Dep3)"
      ],
      "metadata": {
        "id": "aH-PwnNaqJHq"
      },
      "execution_count": null,
      "outputs": []
    },
    {
      "cell_type": "code",
      "source": [
        "#Verificamos los coeficientes obtenidos para el modelo ajustado\n",
        "model3.__dict__"
      ],
      "metadata": {
        "id": "0nb32X5CqNQq"
      },
      "execution_count": null,
      "outputs": []
    },
    {
      "cell_type": "markdown",
      "source": [
        "**Modelo matemático y = 0.25066848x + 3.6860446529109465**"
      ],
      "metadata": {
        "id": "SvUyJtKLrgfs"
      }
    },
    {
      "cell_type": "code",
      "source": [
        "#Predecimos los valores de total de accidentes a partir de la variable \"costo_total\"\n",
        "y_pred3= model3.predict(X=df1[['plazo']])\n",
        "y_pred3"
      ],
      "metadata": {
        "id": "yF2sWDqUrgBS"
      },
      "execution_count": null,
      "outputs": []
    },
    {
      "cell_type": "code",
      "source": [
        "#Insertamos la columna de predicciones en el DataFrame\n",
        "df1.insert(0, 'Predicciones3', y_pred3)\n",
        "df1"
      ],
      "metadata": {
        "id": "LAWK3j_VsBVq"
      },
      "execution_count": null,
      "outputs": []
    },
    {
      "cell_type": "code",
      "source": [
        "#Visualizamos la gráfica comparativa entre el total real y el total predecido\n",
        "\n",
        "sns.scatterplot(x='plazo', y='pagos_realizados', color=\"blue\", data=df1)\n",
        "sns.scatterplot(x='plazo', y='Predicciones3', color=\"red\", data=df1)"
      ],
      "metadata": {
        "id": "0TnxULxGs1sJ"
      },
      "execution_count": null,
      "outputs": []
    },
    {
      "cell_type": "code",
      "source": [
        "#Corroboramos cual es el coeficiente de Determinación de nuestro modelo\n",
        "coef_Deter3=model3.score(X=Vars_Indep3, y=Var_Dep3)\n",
        "coef_Deter3"
      ],
      "metadata": {
        "colab": {
          "base_uri": "https://localhost:8080/"
        },
        "id": "OojDKWNawMwW",
        "outputId": "40362df6-bb40-49a8-c2b4-228d8411c3a0"
      },
      "execution_count": 57,
      "outputs": [
        {
          "output_type": "execute_result",
          "data": {
            "text/plain": [
              "0.06651079195146559"
            ]
          },
          "metadata": {},
          "execution_count": 57
        }
      ]
    },
    {
      "cell_type": "code",
      "source": [
        "#Corroboramos cual es el coeficiente de Correlación de nuestro modelo\n",
        "coef_Correl3=np.sqrt(coef_Deter3)\n",
        "coef_Correl3"
      ],
      "metadata": {
        "colab": {
          "base_uri": "https://localhost:8080/"
        },
        "id": "BZ6u-b3MwR_2",
        "outputId": "6cb4260f-8a5d-476f-d85d-b933313c1b66"
      },
      "execution_count": 56,
      "outputs": [
        {
          "output_type": "execute_result",
          "data": {
            "text/plain": [
              "0.25789686301206843"
            ]
          },
          "metadata": {},
          "execution_count": 56
        }
      ]
    },
    {
      "cell_type": "markdown",
      "source": [
        "**MODELO DE REGRESIÓN LINEAL (plazo)**"
      ],
      "metadata": {
        "id": "xm3GKeAhzJHG"
      }
    },
    {
      "cell_type": "code",
      "source": [
        "#Declaramos las variables dependientes e independientes para la regresión lineal\n",
        "Vars_Indep4= df1[['monto_financiado']]\n",
        "Var_Dep4= df1['plazo']"
      ],
      "metadata": {
        "id": "ychAIvLmzE5b"
      },
      "execution_count": 58,
      "outputs": []
    },
    {
      "cell_type": "code",
      "source": [
        "#Se define model como la función de regresión lineal\n",
        "from sklearn.linear_model import LinearRegression\n",
        "model4= LinearRegression()"
      ],
      "metadata": {
        "id": "WkjxrLirzTNe"
      },
      "execution_count": 59,
      "outputs": []
    },
    {
      "cell_type": "code",
      "source": [
        "#Ajustamos el modelo con las variables antes declaradas\n",
        "model4.fit(X=Vars_Indep4, y=Var_Dep4)"
      ],
      "metadata": {
        "id": "Z3iOGto2zXsD"
      },
      "execution_count": null,
      "outputs": []
    },
    {
      "cell_type": "code",
      "source": [
        "#Verificamos los coeficientes obtenidos para el modelo ajustado\n",
        "model4.__dict__"
      ],
      "metadata": {
        "id": "B8IsqmWKzcaF"
      },
      "execution_count": null,
      "outputs": []
    },
    {
      "cell_type": "markdown",
      "source": [
        "**Modelo matemático y = 0.0022281x + 19.05570972400329**"
      ],
      "metadata": {
        "id": "i6GfxlA3zisa"
      }
    },
    {
      "cell_type": "code",
      "source": [
        "#Predecimos los valores de total de accidentes a partir de la variable \"costo_total\"\n",
        "y_pred4= model4.predict(X=df1[['monto_financiado']])\n",
        "y_pred4"
      ],
      "metadata": {
        "id": "PgGbLMz3zqUP"
      },
      "execution_count": null,
      "outputs": []
    },
    {
      "cell_type": "code",
      "source": [
        "#Insertamos la columna de predicciones en el DataFrame\n",
        "df1.insert(0, 'Predicciones4', y_pred4)\n",
        "df1"
      ],
      "metadata": {
        "id": "XLb7tPcPzxhX"
      },
      "execution_count": null,
      "outputs": []
    },
    {
      "cell_type": "code",
      "source": [
        "#Visualizamos la gráfica comparativa entre el total real y el total predecido\n",
        "\n",
        "sns.scatterplot(x='monto_financiado', y='plazo', color=\"blue\", data=df1)\n",
        "sns.scatterplot(x='monto_financiado', y='Predicciones4', color=\"red\", data=df1)"
      ],
      "metadata": {
        "id": "a-vfJfvLz_9X"
      },
      "execution_count": null,
      "outputs": []
    },
    {
      "cell_type": "code",
      "source": [
        "#Corroboramos cual es el coeficiente de Determinación de nuestro modelo\n",
        "coef_Deter4=model4.score(X=Vars_Indep4, y=Var_Dep4)\n",
        "coef_Deter4"
      ],
      "metadata": {
        "colab": {
          "base_uri": "https://localhost:8080/"
        },
        "id": "cyLJIgU40W-n",
        "outputId": "af7160cc-a54b-4c1a-a21a-7cdffe919405"
      },
      "execution_count": 67,
      "outputs": [
        {
          "output_type": "execute_result",
          "data": {
            "text/plain": [
              "0.05985143417552263"
            ]
          },
          "metadata": {},
          "execution_count": 67
        }
      ]
    },
    {
      "cell_type": "code",
      "source": [
        "#Corroboramos cual es el coeficiente de Correlación de nuestro modelo\n",
        "coef_Correl4=np.sqrt(coef_Deter4)\n",
        "coef_Correl4"
      ],
      "metadata": {
        "colab": {
          "base_uri": "https://localhost:8080/"
        },
        "id": "Vze2MrBf0g4o",
        "outputId": "09179285-5fc4-4fb9-9888-12e33ba71201"
      },
      "execution_count": 68,
      "outputs": [
        {
          "output_type": "execute_result",
          "data": {
            "text/plain": [
              "0.24464552760171732"
            ]
          },
          "metadata": {},
          "execution_count": 68
        }
      ]
    },
    {
      "cell_type": "markdown",
      "source": [
        "**MODELO DE REGRESIÓN LINEAL (monto_financiado)**"
      ],
      "metadata": {
        "id": "Xg5rvict0q-3"
      }
    },
    {
      "cell_type": "code",
      "source": [
        "#Declaramos las variables dependientes e independientes para la regresión lineal\n",
        "Vars_Indep5= df1[['porc_enganche']]\n",
        "Var_Dep5= df1['monto_financiado']"
      ],
      "metadata": {
        "id": "_8tiCRqf0vcA"
      },
      "execution_count": 69,
      "outputs": []
    },
    {
      "cell_type": "code",
      "source": [
        "#Se define model como la función de regresión lineal\n",
        "from sklearn.linear_model import LinearRegression\n",
        "model5= LinearRegression()"
      ],
      "metadata": {
        "id": "dMIY_f6g08cn"
      },
      "execution_count": 70,
      "outputs": []
    },
    {
      "cell_type": "code",
      "source": [
        "#Ajustamos el modelo con las variables antes declaradas\n",
        "model5.fit(X=Vars_Indep5, y=Var_Dep5)"
      ],
      "metadata": {
        "id": "5FlmD5ox1J6j"
      },
      "execution_count": null,
      "outputs": []
    },
    {
      "cell_type": "code",
      "source": [
        "#Verificamos los coeficientes obtenidos para el modelo ajustado\n",
        "model5.__dict__"
      ],
      "metadata": {
        "id": "Mj56hVfB1P_8"
      },
      "execution_count": null,
      "outputs": []
    },
    {
      "cell_type": "markdown",
      "source": [
        "**Modelo matemático y = -2.10428147x + 3078.031535990979**"
      ],
      "metadata": {
        "id": "lIHs1_b21knT"
      }
    },
    {
      "cell_type": "code",
      "source": [
        "#Predecimos los valores de total de accidentes a partir de la variable \"costo_total\"\n",
        "y_pred5= model5.predict(X=df1[['porc_enganche']])\n",
        "y_pred5"
      ],
      "metadata": {
        "id": "PNtiPFFW1ikY"
      },
      "execution_count": null,
      "outputs": []
    },
    {
      "cell_type": "code",
      "source": [
        "#Insertamos la columna de predicciones en el DataFrame\n",
        "df1.insert(0, 'Predicciones5', y_pred5)"
      ],
      "metadata": {
        "id": "F1RagGgD1yLK"
      },
      "execution_count": 74,
      "outputs": []
    },
    {
      "cell_type": "code",
      "source": [
        "#Visualizamos la gráfica comparativa entre el total real y el total predecido\n",
        "\n",
        "sns.scatterplot(x='porc_enganche', y='monto_financiado', color=\"blue\", data=df1)\n",
        "sns.scatterplot(x='porc_enganche', y='Predicciones5', color=\"red\", data=df1)"
      ],
      "metadata": {
        "id": "ttrcCv7P13Bf"
      },
      "execution_count": null,
      "outputs": []
    },
    {
      "cell_type": "code",
      "source": [
        "#Corroboramos cual es el coeficiente de Determinación de nuestro modelo\n",
        "coef_Deter5=model5.score(X=Vars_Indep5, y=Var_Dep5)\n",
        "coef_Deter5"
      ],
      "metadata": {
        "colab": {
          "base_uri": "https://localhost:8080/"
        },
        "id": "F6o1ezod2Ll-",
        "outputId": "5ab3125d-bdda-4ac8-ffe9-7f9210ed5b8f"
      },
      "execution_count": 76,
      "outputs": [
        {
          "output_type": "execute_result",
          "data": {
            "text/plain": [
              "0.000121508687005778"
            ]
          },
          "metadata": {},
          "execution_count": 76
        }
      ]
    },
    {
      "cell_type": "code",
      "source": [
        "#Corroboramos cual es el coeficiente de Correlación de nuestro modelo\n",
        "coef_Correl5=np.sqrt(coef_Deter5)\n",
        "coef_Correl5"
      ],
      "metadata": {
        "colab": {
          "base_uri": "https://localhost:8080/"
        },
        "id": "WNyuerF02Sk6",
        "outputId": "e3637459-a4d3-4527-ccb5-39e706424fb1"
      },
      "execution_count": 77,
      "outputs": [
        {
          "output_type": "execute_result",
          "data": {
            "text/plain": [
              "0.011023097886065331"
            ]
          },
          "metadata": {},
          "execution_count": 77
        }
      ]
    },
    {
      "cell_type": "markdown",
      "source": [
        "**MODELO DE REGRESIÓN LINEAL (porc_enganche)**"
      ],
      "metadata": {
        "id": "ZCE805Ho2Ye0"
      }
    },
    {
      "cell_type": "code",
      "source": [
        "#Declaramos las variables dependientes e independientes para la regresión lineal\n",
        "Vars_Indep6= df1[['porc_tasa']]\n",
        "Var_Dep6= df1['porc_enganche']"
      ],
      "metadata": {
        "id": "nZZAVEpQuxdJ"
      },
      "execution_count": 79,
      "outputs": []
    },
    {
      "cell_type": "code",
      "source": [
        "#Se define model como la función de regresión lineal\n",
        "from sklearn.linear_model import LinearRegression\n",
        "model6= LinearRegression()"
      ],
      "metadata": {
        "id": "Qpx8_YnDu3Q6"
      },
      "execution_count": 80,
      "outputs": []
    },
    {
      "cell_type": "code",
      "source": [
        "#Ajustamos el modelo con las variables antes declaradas\n",
        "model6.fit(X=Vars_Indep6, y=Var_Dep6)"
      ],
      "metadata": {
        "id": "cukns38fu6vX"
      },
      "execution_count": null,
      "outputs": []
    },
    {
      "cell_type": "code",
      "source": [
        "#Verificamos los coeficientes obtenidos para el modelo ajustado\n",
        "model6.__dict__"
      ],
      "metadata": {
        "id": "zaORiGOgvAAD"
      },
      "execution_count": null,
      "outputs": []
    },
    {
      "cell_type": "markdown",
      "source": [
        "**Modelo matemático y = -0.07293431x + 1.0108007593802968**"
      ],
      "metadata": {
        "id": "3C9jjQDtwm-u"
      }
    },
    {
      "cell_type": "code",
      "source": [
        "#Predecimos los valores de total de accidentes a partir de la variable \"costo_total\"\n",
        "y_pred6= model6.predict(X=df1[['porc_tasa']])\n",
        "y_pred6"
      ],
      "metadata": {
        "colab": {
          "base_uri": "https://localhost:8080/"
        },
        "id": "Xt2MIlHRwv_a",
        "outputId": "079bc72d-eaea-4018-df15-58baa7b18050"
      },
      "execution_count": 85,
      "outputs": [
        {
          "output_type": "execute_result",
          "data": {
            "text/plain": [
              "array([1.01080076, 1.01080076, 1.01080076, ..., 0.95610003, 1.02101156,\n",
              "       1.22085157])"
            ]
          },
          "metadata": {},
          "execution_count": 85
        }
      ]
    },
    {
      "cell_type": "code",
      "source": [
        "#Insertamos la columna de predicciones en el DataFrame\n",
        "df1.insert(0, 'Predicciones6', y_pred6)\n",
        "df1.head(4)"
      ],
      "metadata": {
        "id": "sanY-5m9w4cg"
      },
      "execution_count": null,
      "outputs": []
    },
    {
      "cell_type": "code",
      "source": [
        "#Visualizamos la gráfica comparativa entre el total real y el total predecido\n",
        "\n",
        "sns.scatterplot(x='porc_tasa', y='porc_enganche', color=\"blue\", data=df1)\n",
        "sns.scatterplot(x='porc_tasa', y='Predicciones6', color=\"red\", data=df1)"
      ],
      "metadata": {
        "id": "82OW2JTFxDN_"
      },
      "execution_count": null,
      "outputs": []
    },
    {
      "cell_type": "code",
      "source": [
        "#Corroboramos cual es el coeficiente de Determinación de nuestro modelo\n",
        "coef_Deter6=model6.score(X=Vars_Indep6, y=Var_Dep6)\n",
        "coef_Deter6"
      ],
      "metadata": {
        "colab": {
          "base_uri": "https://localhost:8080/"
        },
        "id": "XliEj4HvxNhZ",
        "outputId": "f56d812f-1bfa-4181-c071-40a992763d40"
      },
      "execution_count": 88,
      "outputs": [
        {
          "output_type": "execute_result",
          "data": {
            "text/plain": [
              "0.009570552066136218"
            ]
          },
          "metadata": {},
          "execution_count": 88
        }
      ]
    },
    {
      "cell_type": "code",
      "source": [
        "#Corroboramos cual es el coeficiente de Correlación de nuestro modelo\n",
        "coef_Correl6=np.sqrt(coef_Deter6)\n",
        "coef_Correl6"
      ],
      "metadata": {
        "colab": {
          "base_uri": "https://localhost:8080/"
        },
        "id": "jFS-vTZ2xUYg",
        "outputId": "e6e7328a-6827-495a-edc1-cbbbab02e9b0"
      },
      "execution_count": 90,
      "outputs": [
        {
          "output_type": "execute_result",
          "data": {
            "text/plain": [
              "0.09782919843347496"
            ]
          },
          "metadata": {},
          "execution_count": 90
        }
      ]
    }
  ]
}